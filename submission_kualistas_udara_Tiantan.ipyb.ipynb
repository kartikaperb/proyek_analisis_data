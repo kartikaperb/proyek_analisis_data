{
  "nbformat": 4,
  "nbformat_minor": 0,
  "metadata": {
    "colab": {
      "provenance": []
    },
    "kernelspec": {
      "name": "python3",
      "display_name": "Python 3"
    },
    "language_info": {
      "name": "python"
    }
  },
  "cells": [
    {
      "cell_type": "code",
      "execution_count": null,
      "metadata": {
        "id": "y8bLfX6GD35b"
      },
      "outputs": [],
      "source": []
    },
    {
      "cell_type": "markdown",
      "source": [
        "# **Proyek Analisis Data**\n",
        "*   Data: Air-Quality-Datasets (PRSA_Data_Tiantan_20130301-20170228)\n",
        "*   Nama: Kartika Sari\n",
        "*   Email: ptk.kartikasari@gmail.com\n",
        "*   ID DIcoding: https://www.dicoding.com/users/kartikaperb\n"
      ],
      "metadata": {
        "id": "qG1cXOFlD61I"
      }
    },
    {
      "cell_type": "markdown",
      "source": [
        "**Menentukan Pertanyaan Bisnis**\n",
        "1. Bagaimana tren polusi udara (PM2.5) di Beijing dari tahun ke tahun?\n",
        "→ Visualisasi: Line chart\n",
        "2. Bagaimana perbedaan kualitas udara (PM2.5) berdasarkan musim?\n",
        "→ Visualisasi: Boxplot kualitas udara berdasarkan musim"
      ],
      "metadata": {
        "id": "3-hxvW6JEoHv"
      }
    },
    {
      "cell_type": "markdown",
      "source": [
        "**IMPORT PACKAGE**"
      ],
      "metadata": {
        "id": "5Hy0pAR5Exsq"
      }
    },
    {
      "cell_type": "code",
      "source": [
        "import pandas as pd\n",
        "import numpy as np\n",
        "import matplotlib.pyplot as plt\n",
        "import seaborn as sns\n",
        "import requests\n",
        "import zipfile\n",
        "import os\n",
        "!pip install gdown\n",
        "import gdown"
      ],
      "metadata": {
        "colab": {
          "base_uri": "https://localhost:8080/"
        },
        "collapsed": true,
        "id": "1R_3Ft-ME10O",
        "outputId": "0a582ca6-f103-41df-a2c0-9ab6fc7702e7"
      },
      "execution_count": null,
      "outputs": [
        {
          "output_type": "stream",
          "name": "stdout",
          "text": [
            "Requirement already satisfied: gdown in /usr/local/lib/python3.11/dist-packages (5.2.0)\n",
            "Requirement already satisfied: beautifulsoup4 in /usr/local/lib/python3.11/dist-packages (from gdown) (4.13.3)\n",
            "Requirement already satisfied: filelock in /usr/local/lib/python3.11/dist-packages (from gdown) (3.17.0)\n",
            "Requirement already satisfied: requests[socks] in /usr/local/lib/python3.11/dist-packages (from gdown) (2.32.3)\n",
            "Requirement already satisfied: tqdm in /usr/local/lib/python3.11/dist-packages (from gdown) (4.67.1)\n",
            "Requirement already satisfied: soupsieve>1.2 in /usr/local/lib/python3.11/dist-packages (from beautifulsoup4->gdown) (2.6)\n",
            "Requirement already satisfied: typing-extensions>=4.0.0 in /usr/local/lib/python3.11/dist-packages (from beautifulsoup4->gdown) (4.12.2)\n",
            "Requirement already satisfied: charset-normalizer<4,>=2 in /usr/local/lib/python3.11/dist-packages (from requests[socks]->gdown) (3.4.1)\n",
            "Requirement already satisfied: idna<4,>=2.5 in /usr/local/lib/python3.11/dist-packages (from requests[socks]->gdown) (3.10)\n",
            "Requirement already satisfied: urllib3<3,>=1.21.1 in /usr/local/lib/python3.11/dist-packages (from requests[socks]->gdown) (2.3.0)\n",
            "Requirement already satisfied: certifi>=2017.4.17 in /usr/local/lib/python3.11/dist-packages (from requests[socks]->gdown) (2025.1.31)\n",
            "Requirement already satisfied: PySocks!=1.5.7,>=1.5.6 in /usr/local/lib/python3.11/dist-packages (from requests[socks]->gdown) (1.7.1)\n"
          ]
        }
      ]
    },
    {
      "cell_type": "markdown",
      "source": [
        "**LOAD DATA**"
      ],
      "metadata": {
        "id": "4_e57kzPE9ff"
      }
    },
    {
      "cell_type": "code",
      "source": [
        "# ID file dari Google Drive\n",
        "file_id = \"1RhU3gJlkteaAQfyn9XOVAz7a5o1-etgr\"\n",
        "zip_path = \"air_quality_dataset.zip\"\n",
        "extract_path = \"air_quality_data\"\n",
        "\n",
        "# Download file ZIP\n",
        "gdown.download(f\"https://drive.google.com/uc?export=download&id={file_id}\", zip_path, quiet=False)\n",
        "\n",
        "# Ekstrak file ZIP\n",
        "print(\"Extracting dataset...\")\n",
        "with zipfile.ZipFile(zip_path, \"r\") as zip_ref:\n",
        "    zip_ref.extractall(extract_path)\n",
        "\n",
        "print(\"Extraction complete!\")\n",
        "print(\"Extracted files:\", os.listdir(extract_path))\n"
      ],
      "metadata": {
        "colab": {
          "base_uri": "https://localhost:8080/"
        },
        "id": "0kdbGlaAE8Zi",
        "outputId": "5486ebaf-e93f-45e7-c0d5-55e0d7cb0981"
      },
      "execution_count": null,
      "outputs": [
        {
          "output_type": "stream",
          "name": "stderr",
          "text": [
            "Downloading...\n",
            "From: https://drive.google.com/uc?export=download&id=1RhU3gJlkteaAQfyn9XOVAz7a5o1-etgr\n",
            "To: /content/air_quality_dataset.zip\n",
            "100%|██████████| 7.96M/7.96M [00:00<00:00, 34.4MB/s]"
          ]
        },
        {
          "output_type": "stream",
          "name": "stdout",
          "text": [
            "Extracting dataset...\n",
            "Extraction complete!\n",
            "Extracted files: ['E-Commerce Public Dataset', 'PRSA_Data_20130301-20170228']\n"
          ]
        },
        {
          "output_type": "stream",
          "name": "stderr",
          "text": [
            "\n"
          ]
        }
      ]
    },
    {
      "cell_type": "code",
      "source": [
        "# Cek isi folder utama\n",
        "print(\"Isi folder utama:\", os.listdir(extract_path))\n",
        "\n",
        "# Jika ada subfolder, kita cek isinya\n",
        "for folder in os.listdir(extract_path):\n",
        "    folder_path = os.path.join(extract_path, folder)\n",
        "    if os.path.isdir(folder_path):  # Cek apakah ini folder\n",
        "        print(f\"Isi folder {folder}: {os.listdir(folder_path)}\")\n"
      ],
      "metadata": {
        "colab": {
          "base_uri": "https://localhost:8080/"
        },
        "id": "7WsOWvBmGUCb",
        "outputId": "74cae46b-d409-4055-b97e-11696d914871"
      },
      "execution_count": null,
      "outputs": [
        {
          "output_type": "stream",
          "name": "stdout",
          "text": [
            "Isi folder utama: ['E-Commerce Public Dataset', 'PRSA_Data_20130301-20170228']\n",
            "Isi folder E-Commerce Public Dataset: ['customers_dataset.csv', 'order_items_dataset.csv', 'products_dataset.csv', 'sellers_dataset.csv', 'order_reviews_dataset.csv', 'geolocation_dataset.csv', 'orders_dataset.csv', 'New Text Document.txt', 'product_category_name_translation.csv', 'order_payments_dataset.csv']\n",
            "Isi folder PRSA_Data_20130301-20170228: ['PRSA_Data_Changping_20130301-20170228.csv', 'PRSA_Data_Aotizhongxin_20130301-20170228.csv', 'PRSA_Data_Dongsi_20130301-20170228.csv', 'PRSA_Data_Wanliu_20130301-20170228.csv', 'PRSA_Data_Dingling_20130301-20170228.csv', 'PRSA_Data_Tiantan_20130301-20170228.csv', 'PRSA_Data_Huairou_20130301-20170228.csv', 'PRSA_Data_Shunyi_20130301-20170228.csv', 'PRSA_Data_Gucheng_20130301-20170228.csv', 'PRSA_Data_Guanyuan_20130301-20170228.csv', 'PRSA_Data_Wanshouxigong_20130301-20170228.csv', 'PRSA_Data_Nongzhanguan_20130301-20170228.csv']\n"
          ]
        }
      ]
    },
    {
      "cell_type": "code",
      "source": [
        "import pandas as pd\n",
        "\n",
        "# Pilih salah satu file CSV yang ingin dibaca\n",
        "csv_filename = \"PRSA_Data_Tiantan_20130301-20170228.csv\"  # Ganti jika ingin baca yang lain\n",
        "csv_path = os.path.join(extract_path, \"PRSA_Data_20130301-20170228\", csv_filename)\n",
        "\n",
        "# Baca file CSV\n",
        "df = pd.read_csv(csv_path)\n",
        "\n",
        "# Tampilkan 5 baris pertama\n",
        "print(df.head())"
      ],
      "metadata": {
        "colab": {
          "base_uri": "https://localhost:8080/"
        },
        "id": "Aa2pFxNhKrNH",
        "outputId": "5b7504e0-ece3-48d5-be98-1194fba4f1bd"
      },
      "execution_count": null,
      "outputs": [
        {
          "output_type": "stream",
          "name": "stdout",
          "text": [
            "   No  year  month  day  hour  PM2.5  PM10  SO2   NO2     CO    O3  TEMP  \\\n",
            "0   1  2013      3    1     0    6.0   6.0  4.0   8.0  300.0  81.0  -0.5   \n",
            "1   2  2013      3    1     1    6.0  29.0  5.0   9.0  300.0  80.0  -0.7   \n",
            "2   3  2013      3    1     2    6.0   6.0  4.0  12.0  300.0  75.0  -1.2   \n",
            "3   4  2013      3    1     3    6.0   6.0  4.0  12.0  300.0  74.0  -1.4   \n",
            "4   5  2013      3    1     4    5.0   5.0  7.0  15.0  400.0  70.0  -1.9   \n",
            "\n",
            "     PRES  DEWP  RAIN   wd  WSPM  station  \n",
            "0  1024.5 -21.4   0.0  NNW   5.7  Tiantan  \n",
            "1  1025.1 -22.1   0.0   NW   3.9  Tiantan  \n",
            "2  1025.3 -24.6   0.0  NNW   5.3  Tiantan  \n",
            "3  1026.2 -25.5   0.0    N   4.9  Tiantan  \n",
            "4  1027.1 -24.5   0.0  NNW   3.2  Tiantan  \n"
          ]
        }
      ]
    },
    {
      "cell_type": "code",
      "source": [
        "# Melihat informasi dataset\n",
        "df.info()\n",
        "\n",
        "# Melihat statistik ringkasan\n",
        "print(df.describe())"
      ],
      "metadata": {
        "colab": {
          "base_uri": "https://localhost:8080/"
        },
        "collapsed": true,
        "id": "VENq-TS7OoYJ",
        "outputId": "680f73cb-9fae-4e5a-8438-224f5b5765c4"
      },
      "execution_count": null,
      "outputs": [
        {
          "output_type": "stream",
          "name": "stdout",
          "text": [
            "<class 'pandas.core.frame.DataFrame'>\n",
            "RangeIndex: 35064 entries, 0 to 35063\n",
            "Data columns (total 18 columns):\n",
            " #   Column   Non-Null Count  Dtype  \n",
            "---  ------   --------------  -----  \n",
            " 0   No       35064 non-null  int64  \n",
            " 1   year     35064 non-null  int64  \n",
            " 2   month    35064 non-null  int64  \n",
            " 3   day      35064 non-null  int64  \n",
            " 4   hour     35064 non-null  int64  \n",
            " 5   PM2.5    34387 non-null  float64\n",
            " 6   PM10     34467 non-null  float64\n",
            " 7   SO2      33946 non-null  float64\n",
            " 8   NO2      34320 non-null  float64\n",
            " 9   CO       33938 non-null  float64\n",
            " 10  O3       34221 non-null  float64\n",
            " 11  TEMP     35044 non-null  float64\n",
            " 12  PRES     35044 non-null  float64\n",
            " 13  DEWP     35044 non-null  float64\n",
            " 14  RAIN     35044 non-null  float64\n",
            " 15  wd       34986 non-null  object \n",
            " 16  WSPM     35050 non-null  float64\n",
            " 17  station  35064 non-null  object \n",
            "dtypes: float64(11), int64(5), object(2)\n",
            "memory usage: 4.8+ MB\n",
            "                 No          year         month           day          hour  \\\n",
            "count  35064.000000  35064.000000  35064.000000  35064.000000  35064.000000   \n",
            "mean   17532.500000   2014.662560      6.522930     15.729637     11.500000   \n",
            "std    10122.249256      1.177213      3.448752      8.800218      6.922285   \n",
            "min        1.000000   2013.000000      1.000000      1.000000      0.000000   \n",
            "25%     8766.750000   2014.000000      4.000000      8.000000      5.750000   \n",
            "50%    17532.500000   2015.000000      7.000000     16.000000     11.500000   \n",
            "75%    26298.250000   2016.000000     10.000000     23.000000     17.250000   \n",
            "max    35064.000000   2017.000000     12.000000     31.000000     23.000000   \n",
            "\n",
            "              PM2.5          PM10           SO2           NO2            CO  \\\n",
            "count  34387.000000  34467.000000  33946.000000  34320.000000  33938.000000   \n",
            "mean      82.164911    106.363672     14.367615     53.162646   1298.303318   \n",
            "std       80.921384     89.700157     20.144631     31.946224   1170.593297   \n",
            "min        3.000000      2.000000      0.571200      2.000000    100.000000   \n",
            "25%       22.000000     41.000000      3.000000     28.000000    500.000000   \n",
            "50%       59.000000     85.000000      7.000000     47.000000    900.000000   \n",
            "75%      113.000000    144.000000     17.000000     71.000000   1600.000000   \n",
            "max      821.000000    988.000000    273.000000    241.000000  10000.000000   \n",
            "\n",
            "                 O3          TEMP          PRES          DEWP          RAIN  \\\n",
            "count  34221.000000  35044.000000  35044.000000  35044.000000  35044.000000   \n",
            "mean      55.984297     13.671490   1012.547419      2.447535      0.064020   \n",
            "std       59.081528     11.458418     10.266059     13.810696      0.786282   \n",
            "min        0.428400    -16.800000    987.100000    -35.300000      0.000000   \n",
            "25%        8.000000      3.100000   1004.000000     -8.800000      0.000000   \n",
            "50%       40.000000     14.600000   1012.200000      3.000000      0.000000   \n",
            "75%       81.000000     23.500000   1020.900000     15.000000      0.000000   \n",
            "max      674.000000     41.100000   1042.000000     28.800000     46.400000   \n",
            "\n",
            "               WSPM  \n",
            "count  35050.000000  \n",
            "mean       1.860785  \n",
            "std        1.280368  \n",
            "min        0.000000  \n",
            "25%        1.000000  \n",
            "50%        1.500000  \n",
            "75%        2.400000  \n",
            "max       10.500000  \n"
          ]
        }
      ]
    },
    {
      "cell_type": "code",
      "source": [
        "# Cek info dataset\n",
        "df.info()\n",
        "\n",
        "# Cek ringkasan statistik\n",
        "df.describe()\n",
        "\n",
        "# Cek jumlah missing values\n",
        "df.isnull().sum()"
      ],
      "metadata": {
        "colab": {
          "base_uri": "https://localhost:8080/",
          "height": 1000
        },
        "id": "yV1QpZfYRTU8",
        "outputId": "cfa462de-e3ab-4762-fae7-ab25e5ca6559"
      },
      "execution_count": null,
      "outputs": [
        {
          "output_type": "stream",
          "name": "stdout",
          "text": [
            "<class 'pandas.core.frame.DataFrame'>\n",
            "RangeIndex: 35064 entries, 0 to 35063\n",
            "Data columns (total 18 columns):\n",
            " #   Column   Non-Null Count  Dtype  \n",
            "---  ------   --------------  -----  \n",
            " 0   No       35064 non-null  int64  \n",
            " 1   year     35064 non-null  int64  \n",
            " 2   month    35064 non-null  int64  \n",
            " 3   day      35064 non-null  int64  \n",
            " 4   hour     35064 non-null  int64  \n",
            " 5   PM2.5    34387 non-null  float64\n",
            " 6   PM10     34467 non-null  float64\n",
            " 7   SO2      33946 non-null  float64\n",
            " 8   NO2      34320 non-null  float64\n",
            " 9   CO       33938 non-null  float64\n",
            " 10  O3       34221 non-null  float64\n",
            " 11  TEMP     35044 non-null  float64\n",
            " 12  PRES     35044 non-null  float64\n",
            " 13  DEWP     35044 non-null  float64\n",
            " 14  RAIN     35044 non-null  float64\n",
            " 15  wd       34986 non-null  object \n",
            " 16  WSPM     35050 non-null  float64\n",
            " 17  station  35064 non-null  object \n",
            "dtypes: float64(11), int64(5), object(2)\n",
            "memory usage: 4.8+ MB\n"
          ]
        },
        {
          "output_type": "execute_result",
          "data": {
            "text/plain": [
              "No            0\n",
              "year          0\n",
              "month         0\n",
              "day           0\n",
              "hour          0\n",
              "PM2.5       677\n",
              "PM10        597\n",
              "SO2        1118\n",
              "NO2         744\n",
              "CO         1126\n",
              "O3          843\n",
              "TEMP         20\n",
              "PRES         20\n",
              "DEWP         20\n",
              "RAIN         20\n",
              "wd           78\n",
              "WSPM         14\n",
              "station       0\n",
              "dtype: int64"
            ],
            "text/html": [
              "<div>\n",
              "<style scoped>\n",
              "    .dataframe tbody tr th:only-of-type {\n",
              "        vertical-align: middle;\n",
              "    }\n",
              "\n",
              "    .dataframe tbody tr th {\n",
              "        vertical-align: top;\n",
              "    }\n",
              "\n",
              "    .dataframe thead th {\n",
              "        text-align: right;\n",
              "    }\n",
              "</style>\n",
              "<table border=\"1\" class=\"dataframe\">\n",
              "  <thead>\n",
              "    <tr style=\"text-align: right;\">\n",
              "      <th></th>\n",
              "      <th>0</th>\n",
              "    </tr>\n",
              "  </thead>\n",
              "  <tbody>\n",
              "    <tr>\n",
              "      <th>No</th>\n",
              "      <td>0</td>\n",
              "    </tr>\n",
              "    <tr>\n",
              "      <th>year</th>\n",
              "      <td>0</td>\n",
              "    </tr>\n",
              "    <tr>\n",
              "      <th>month</th>\n",
              "      <td>0</td>\n",
              "    </tr>\n",
              "    <tr>\n",
              "      <th>day</th>\n",
              "      <td>0</td>\n",
              "    </tr>\n",
              "    <tr>\n",
              "      <th>hour</th>\n",
              "      <td>0</td>\n",
              "    </tr>\n",
              "    <tr>\n",
              "      <th>PM2.5</th>\n",
              "      <td>677</td>\n",
              "    </tr>\n",
              "    <tr>\n",
              "      <th>PM10</th>\n",
              "      <td>597</td>\n",
              "    </tr>\n",
              "    <tr>\n",
              "      <th>SO2</th>\n",
              "      <td>1118</td>\n",
              "    </tr>\n",
              "    <tr>\n",
              "      <th>NO2</th>\n",
              "      <td>744</td>\n",
              "    </tr>\n",
              "    <tr>\n",
              "      <th>CO</th>\n",
              "      <td>1126</td>\n",
              "    </tr>\n",
              "    <tr>\n",
              "      <th>O3</th>\n",
              "      <td>843</td>\n",
              "    </tr>\n",
              "    <tr>\n",
              "      <th>TEMP</th>\n",
              "      <td>20</td>\n",
              "    </tr>\n",
              "    <tr>\n",
              "      <th>PRES</th>\n",
              "      <td>20</td>\n",
              "    </tr>\n",
              "    <tr>\n",
              "      <th>DEWP</th>\n",
              "      <td>20</td>\n",
              "    </tr>\n",
              "    <tr>\n",
              "      <th>RAIN</th>\n",
              "      <td>20</td>\n",
              "    </tr>\n",
              "    <tr>\n",
              "      <th>wd</th>\n",
              "      <td>78</td>\n",
              "    </tr>\n",
              "    <tr>\n",
              "      <th>WSPM</th>\n",
              "      <td>14</td>\n",
              "    </tr>\n",
              "    <tr>\n",
              "      <th>station</th>\n",
              "      <td>0</td>\n",
              "    </tr>\n",
              "  </tbody>\n",
              "</table>\n",
              "</div><br><label><b>dtype:</b> int64</label>"
            ]
          },
          "metadata": {},
          "execution_count": 6
        }
      ]
    },
    {
      "cell_type": "markdown",
      "source": [
        "**Findings :**\n",
        "1. Terdapat kolom tanggal (year, month, day, hour) yang mungkin bisa digabungkan jadi satu kolom datetime.\n",
        "2. Ada nilai kosong di dalam data polutannya\n",
        "3. kemungkinan terdapat outlier di kolom numerik\n"
      ],
      "metadata": {
        "id": "TmzOEk5oRiJy"
      }
    },
    {
      "cell_type": "markdown",
      "source": [
        "**Data Cleaning**"
      ],
      "metadata": {
        "id": "XJjQYuwHTN0C"
      }
    },
    {
      "cell_type": "code",
      "source": [
        "#Gabungkan kolom waktu menjadi satu kolom datetime\n",
        "df['datetime'] = pd.to_datetime(df[['year', 'month', 'day', 'hour']])\n",
        "\n",
        "#Hapus kolom yang tidak diperlukan\n",
        "df.drop(columns=['year', 'month', 'day', 'hour', 'No'], inplace=True)\n",
        "\n",
        "#Isi missing values dengan interpolasi\n",
        "df.interpolate(method='linear', inplace=True)\n",
        "\n",
        "#Isi na wd pake nilai modus\n",
        "df['wd'].fillna(df['wd'].mode()[0], inplace=True)\n",
        "\n",
        "\n",
        "# Cek hasil setelah membersihkan data\n",
        "df.info()\n",
        "df.isnull().sum()\n"
      ],
      "metadata": {
        "colab": {
          "base_uri": "https://localhost:8080/",
          "height": 1000
        },
        "collapsed": true,
        "id": "1ArfmbOnTnDa",
        "outputId": "eae6a802-2622-46e5-c26f-9a89a692b4f0"
      },
      "execution_count": null,
      "outputs": [
        {
          "output_type": "stream",
          "name": "stdout",
          "text": [
            "<class 'pandas.core.frame.DataFrame'>\n",
            "RangeIndex: 35064 entries, 0 to 35063\n",
            "Data columns (total 14 columns):\n",
            " #   Column    Non-Null Count  Dtype         \n",
            "---  ------    --------------  -----         \n",
            " 0   PM2.5     35064 non-null  float64       \n",
            " 1   PM10      35064 non-null  float64       \n",
            " 2   SO2       35064 non-null  float64       \n",
            " 3   NO2       35064 non-null  float64       \n",
            " 4   CO        35064 non-null  float64       \n",
            " 5   O3        35064 non-null  float64       \n",
            " 6   TEMP      35064 non-null  float64       \n",
            " 7   PRES      35064 non-null  float64       \n",
            " 8   DEWP      35064 non-null  float64       \n",
            " 9   RAIN      35064 non-null  float64       \n",
            " 10  wd        35064 non-null  object        \n",
            " 11  WSPM      35064 non-null  float64       \n",
            " 12  station   35064 non-null  object        \n",
            " 13  datetime  35064 non-null  datetime64[ns]\n",
            "dtypes: datetime64[ns](1), float64(11), object(2)\n",
            "memory usage: 3.7+ MB\n"
          ]
        },
        {
          "output_type": "stream",
          "name": "stderr",
          "text": [
            "<ipython-input-7-973bbdc6622e>:8: FutureWarning: DataFrame.interpolate with object dtype is deprecated and will raise in a future version. Call obj.infer_objects(copy=False) before interpolating instead.\n",
            "  df.interpolate(method='linear', inplace=True)\n",
            "<ipython-input-7-973bbdc6622e>:11: FutureWarning: A value is trying to be set on a copy of a DataFrame or Series through chained assignment using an inplace method.\n",
            "The behavior will change in pandas 3.0. This inplace method will never work because the intermediate object on which we are setting values always behaves as a copy.\n",
            "\n",
            "For example, when doing 'df[col].method(value, inplace=True)', try using 'df.method({col: value}, inplace=True)' or df[col] = df[col].method(value) instead, to perform the operation inplace on the original object.\n",
            "\n",
            "\n",
            "  df['wd'].fillna(df['wd'].mode()[0], inplace=True)\n"
          ]
        },
        {
          "output_type": "execute_result",
          "data": {
            "text/plain": [
              "PM2.5       0\n",
              "PM10        0\n",
              "SO2         0\n",
              "NO2         0\n",
              "CO          0\n",
              "O3          0\n",
              "TEMP        0\n",
              "PRES        0\n",
              "DEWP        0\n",
              "RAIN        0\n",
              "wd          0\n",
              "WSPM        0\n",
              "station     0\n",
              "datetime    0\n",
              "dtype: int64"
            ],
            "text/html": [
              "<div>\n",
              "<style scoped>\n",
              "    .dataframe tbody tr th:only-of-type {\n",
              "        vertical-align: middle;\n",
              "    }\n",
              "\n",
              "    .dataframe tbody tr th {\n",
              "        vertical-align: top;\n",
              "    }\n",
              "\n",
              "    .dataframe thead th {\n",
              "        text-align: right;\n",
              "    }\n",
              "</style>\n",
              "<table border=\"1\" class=\"dataframe\">\n",
              "  <thead>\n",
              "    <tr style=\"text-align: right;\">\n",
              "      <th></th>\n",
              "      <th>0</th>\n",
              "    </tr>\n",
              "  </thead>\n",
              "  <tbody>\n",
              "    <tr>\n",
              "      <th>PM2.5</th>\n",
              "      <td>0</td>\n",
              "    </tr>\n",
              "    <tr>\n",
              "      <th>PM10</th>\n",
              "      <td>0</td>\n",
              "    </tr>\n",
              "    <tr>\n",
              "      <th>SO2</th>\n",
              "      <td>0</td>\n",
              "    </tr>\n",
              "    <tr>\n",
              "      <th>NO2</th>\n",
              "      <td>0</td>\n",
              "    </tr>\n",
              "    <tr>\n",
              "      <th>CO</th>\n",
              "      <td>0</td>\n",
              "    </tr>\n",
              "    <tr>\n",
              "      <th>O3</th>\n",
              "      <td>0</td>\n",
              "    </tr>\n",
              "    <tr>\n",
              "      <th>TEMP</th>\n",
              "      <td>0</td>\n",
              "    </tr>\n",
              "    <tr>\n",
              "      <th>PRES</th>\n",
              "      <td>0</td>\n",
              "    </tr>\n",
              "    <tr>\n",
              "      <th>DEWP</th>\n",
              "      <td>0</td>\n",
              "    </tr>\n",
              "    <tr>\n",
              "      <th>RAIN</th>\n",
              "      <td>0</td>\n",
              "    </tr>\n",
              "    <tr>\n",
              "      <th>wd</th>\n",
              "      <td>0</td>\n",
              "    </tr>\n",
              "    <tr>\n",
              "      <th>WSPM</th>\n",
              "      <td>0</td>\n",
              "    </tr>\n",
              "    <tr>\n",
              "      <th>station</th>\n",
              "      <td>0</td>\n",
              "    </tr>\n",
              "    <tr>\n",
              "      <th>datetime</th>\n",
              "      <td>0</td>\n",
              "    </tr>\n",
              "  </tbody>\n",
              "</table>\n",
              "</div><br><label><b>dtype:</b> int64</label>"
            ]
          },
          "metadata": {},
          "execution_count": 7
        }
      ]
    },
    {
      "cell_type": "markdown",
      "source": [
        "**Tren PM2.5 dari Waktu ke Waktu (Tahunan) menggunakan Line Chart**"
      ],
      "metadata": {
        "id": "V2tZOVCzVqsH"
      }
    },
    {
      "cell_type": "code",
      "source": [
        "import matplotlib.pyplot as plt\n",
        "import seaborn as sns\n",
        "\n",
        "# Hitung rata-rata tahunan PM2.5\n",
        "df['year'] = df['datetime'].dt.year\n",
        "pm25_yearly = df.groupby('year')['PM2.5'].mean()\n",
        "\n",
        "# Buat plot\n",
        "plt.figure(figsize=(10, 5))\n",
        "sns.lineplot(x=pm25_yearly.index, y=pm25_yearly.values, marker='o', label=\"PM2.5 per Tahun\", color='blue')\n",
        "\n",
        "# Tambahkan garis tren (moving average 3 tahun)\n",
        "pm25_yearly_smooth = pm25_yearly.rolling(window=3).mean()\n",
        "sns.lineplot(x=pm25_yearly.index, y=pm25_yearly_smooth, linestyle='dashed', label=\"Tren 3 Tahun\", color='red')\n",
        "\n",
        "# Tambahkan label\n",
        "plt.title(\"Tren PM2.5 dari Tahun ke Tahun\")\n",
        "plt.xlabel(\"Tahun\")\n",
        "plt.ylabel(\"Konsentrasi PM2.5 (µg/m³)\")\n",
        "plt.legend()\n",
        "plt.grid(True)\n",
        "\n",
        "plt.show()\n"
      ],
      "metadata": {
        "colab": {
          "base_uri": "https://localhost:8080/",
          "height": 487
        },
        "id": "sy6pdhCIVyKf",
        "outputId": "8ad25679-0759-4282-eda9-1e154beddf86"
      },
      "execution_count": null,
      "outputs": [
        {
          "output_type": "display_data",
          "data": {
            "text/plain": [
              "<Figure size 1000x500 with 1 Axes>"
            ],
            "image/png": "[encoded data removed]"
          },
          "metadata": {}
        }
      ]
    },
    {
      "cell_type": "markdown",
      "source": [
        "**Perbedaan Kualitas Udara Berdasarkan Musim Menggunakan Box Plot**\n",
        "\n",
        "Tambahk:an informasi musim (winter, spring, summer, autumn)."
      ],
      "metadata": {
        "id": "qEQFcBFuM-pa"
      }
    },
    {
      "cell_type": "code",
      "source": [
        "# Tambahkan kolom musim\n",
        "def get_season(month):\n",
        "    if month in [12, 1, 2]:\n",
        "        return 'Winter'\n",
        "    elif month in [3, 4, 5]:\n",
        "        return 'Spring'\n",
        "    elif month in [6, 7, 8]:\n",
        "        return 'Summer'\n",
        "    else:\n",
        "        return 'Autumn'\n",
        "\n",
        "df['season'] = df['datetime'].dt.month.apply(get_season)\n",
        "\n",
        "# Visualisasi boxplot kualitas udara berdasarkan musim\n",
        "import seaborn as sns\n",
        "\n",
        "plt.figure(figsize=(8, 5))\n",
        "sns.boxplot(x='season', y='PM2.5', data=df)\n",
        "plt.xlabel(\"Musim\")\n",
        "plt.ylabel(\"Konsentrasi PM2.5\")\n",
        "plt.title(\"Distribusi PM2.5 Berdasarkan Musim\")\n",
        "plt.show()\n"
      ],
      "metadata": {
        "colab": {
          "base_uri": "https://localhost:8080/",
          "height": 487
        },
        "id": "TXq0I3tJM--r",
        "outputId": "3d50fa66-8a9e-44a7-88ff-1bbbda4bf6ee"
      },
      "execution_count": null,
      "outputs": [
        {
          "output_type": "display_data",
          "data": {
            "text/plain": [
              "<Figure size 800x500 with 1 Axes>"
            ],
            "image/png": "[encoded data removed]"
          },
          "metadata": {}
        }
      ]
    },
    {
      "cell_type": "markdown",
      "source": [
        "**Temuan**\n",
        "1. Polusi udara cenderung lebih tinggi saat musim Winter.\n",
        "2. Musim Summer memiliki tingkat polusi lebih rendah.\n"
      ],
      "metadata": {
        "id": "r76inCsjNtQb"
      }
    }
  ]
}